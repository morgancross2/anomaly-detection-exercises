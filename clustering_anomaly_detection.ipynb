{
 "cells": [
  {
   "cell_type": "code",
   "execution_count": 1,
   "id": "e6c7ef8c-0e3a-42fb-863a-221235ab67b4",
   "metadata": {},
   "outputs": [],
   "source": [
    "import matplotlib.pyplot as plt\n",
    "import seaborn as sns\n",
    "import numpy as np\n",
    "import pandas as pd\n",
    "import env\n",
    "\n",
    "# DBSCAN import\n",
    "from sklearn.cluster import DBSCAN\n",
    "# Scaler import\n",
    "from sklearn.preprocessing import MinMaxScaler"
   ]
  },
  {
   "cell_type": "markdown",
   "id": "d99fca43-79ca-4e2a-be14-43d44ac84772",
   "metadata": {},
   "source": [
    "### 1. Use DBSCAN to detect anomalies in other products from the customers dataset. The database name is grocery_db."
   ]
  },
  {
   "cell_type": "code",
   "execution_count": 16,
   "id": "b095b548-bd49-4384-b6b2-c5c34d88632e",
   "metadata": {},
   "outputs": [],
   "source": [
    "query = '''\n",
    "        SELECT *\n",
    "        FROM grocery_customers\n",
    "'''"
   ]
  },
  {
   "cell_type": "code",
   "execution_count": 17,
   "id": "553096b2-ee68-4c4a-beb9-75ea8282b840",
   "metadata": {},
   "outputs": [],
   "source": [
    "df = pd.read_sql(query, env.conn('grocery_db'))"
   ]
  },
  {
   "cell_type": "code",
   "execution_count": 18,
   "id": "6a529ced-106e-4492-8b97-a7ca932474af",
   "metadata": {},
   "outputs": [
    {
     "name": "stdout",
     "output_type": "stream",
     "text": [
      "<class 'pandas.core.frame.DataFrame'>\n",
      "RangeIndex: 440 entries, 0 to 439\n",
      "Data columns (total 9 columns):\n",
      " #   Column            Non-Null Count  Dtype\n",
      "---  ------            --------------  -----\n",
      " 0   customer_id       440 non-null    int64\n",
      " 1   Channel           440 non-null    int64\n",
      " 2   Region            440 non-null    int64\n",
      " 3   Fresh             440 non-null    int64\n",
      " 4   Milk              440 non-null    int64\n",
      " 5   Grocery           440 non-null    int64\n",
      " 6   Frozen            440 non-null    int64\n",
      " 7   Detergents_Paper  440 non-null    int64\n",
      " 8   Delicassen        440 non-null    int64\n",
      "dtypes: int64(9)\n",
      "memory usage: 31.1 KB\n"
     ]
    }
   ],
   "source": [
    "df.info()"
   ]
  },
  {
   "cell_type": "code",
   "execution_count": 19,
   "id": "0db59e67-3b09-41a6-a3b1-0c2501993280",
   "metadata": {},
   "outputs": [],
   "source": [
    "df.columns = df.columns.str.lower()"
   ]
  },
  {
   "cell_type": "code",
   "execution_count": 20,
   "id": "a97296f6-b3a4-4068-a296-1331121a0aca",
   "metadata": {},
   "outputs": [
    {
     "data": {
      "text/html": [
       "<div>\n",
       "<style scoped>\n",
       "    .dataframe tbody tr th:only-of-type {\n",
       "        vertical-align: middle;\n",
       "    }\n",
       "\n",
       "    .dataframe tbody tr th {\n",
       "        vertical-align: top;\n",
       "    }\n",
       "\n",
       "    .dataframe thead th {\n",
       "        text-align: right;\n",
       "    }\n",
       "</style>\n",
       "<table border=\"1\" class=\"dataframe\">\n",
       "  <thead>\n",
       "    <tr style=\"text-align: right;\">\n",
       "      <th></th>\n",
       "      <th>customer_id</th>\n",
       "      <th>channel</th>\n",
       "      <th>region</th>\n",
       "      <th>fresh</th>\n",
       "      <th>milk</th>\n",
       "      <th>grocery</th>\n",
       "      <th>frozen</th>\n",
       "      <th>detergents_paper</th>\n",
       "      <th>delicassen</th>\n",
       "    </tr>\n",
       "  </thead>\n",
       "  <tbody>\n",
       "    <tr>\n",
       "      <th>0</th>\n",
       "      <td>0</td>\n",
       "      <td>2</td>\n",
       "      <td>3</td>\n",
       "      <td>12669</td>\n",
       "      <td>9656</td>\n",
       "      <td>7561</td>\n",
       "      <td>214</td>\n",
       "      <td>2674</td>\n",
       "      <td>1338</td>\n",
       "    </tr>\n",
       "    <tr>\n",
       "      <th>1</th>\n",
       "      <td>1</td>\n",
       "      <td>2</td>\n",
       "      <td>3</td>\n",
       "      <td>7057</td>\n",
       "      <td>9810</td>\n",
       "      <td>9568</td>\n",
       "      <td>1762</td>\n",
       "      <td>3293</td>\n",
       "      <td>1776</td>\n",
       "    </tr>\n",
       "    <tr>\n",
       "      <th>2</th>\n",
       "      <td>2</td>\n",
       "      <td>2</td>\n",
       "      <td>3</td>\n",
       "      <td>6353</td>\n",
       "      <td>8808</td>\n",
       "      <td>7684</td>\n",
       "      <td>2405</td>\n",
       "      <td>3516</td>\n",
       "      <td>7844</td>\n",
       "    </tr>\n",
       "    <tr>\n",
       "      <th>3</th>\n",
       "      <td>3</td>\n",
       "      <td>1</td>\n",
       "      <td>3</td>\n",
       "      <td>13265</td>\n",
       "      <td>1196</td>\n",
       "      <td>4221</td>\n",
       "      <td>6404</td>\n",
       "      <td>507</td>\n",
       "      <td>1788</td>\n",
       "    </tr>\n",
       "    <tr>\n",
       "      <th>4</th>\n",
       "      <td>4</td>\n",
       "      <td>2</td>\n",
       "      <td>3</td>\n",
       "      <td>22615</td>\n",
       "      <td>5410</td>\n",
       "      <td>7198</td>\n",
       "      <td>3915</td>\n",
       "      <td>1777</td>\n",
       "      <td>5185</td>\n",
       "    </tr>\n",
       "  </tbody>\n",
       "</table>\n",
       "</div>"
      ],
      "text/plain": [
       "   customer_id  channel  region  fresh  milk  grocery  frozen  \\\n",
       "0            0        2       3  12669  9656     7561     214   \n",
       "1            1        2       3   7057  9810     9568    1762   \n",
       "2            2        2       3   6353  8808     7684    2405   \n",
       "3            3        1       3  13265  1196     4221    6404   \n",
       "4            4        2       3  22615  5410     7198    3915   \n",
       "\n",
       "   detergents_paper  delicassen  \n",
       "0              2674        1338  \n",
       "1              3293        1776  \n",
       "2              3516        7844  \n",
       "3               507        1788  \n",
       "4              1777        5185  "
      ]
     },
     "execution_count": 20,
     "metadata": {},
     "output_type": "execute_result"
    }
   ],
   "source": [
    "df.head()"
   ]
  },
  {
   "cell_type": "code",
   "execution_count": 21,
   "id": "43d0e58c-0c21-46d0-8abe-d6275e2dbaef",
   "metadata": {},
   "outputs": [],
   "source": [
    "df['total'] = df.fresh + df.milk + df.grocery + df.frozen + df.detergents_paper + df.delicassen"
   ]
  },
  {
   "cell_type": "code",
   "execution_count": 22,
   "id": "9ccfa5dc-a62a-47d9-9df7-acce08e59be3",
   "metadata": {},
   "outputs": [
    {
     "data": {
      "text/plain": [
       "85     199891\n",
       "47     192714\n",
       "181    190169\n",
       "183    185683\n",
       "61     165881\n",
       "        ...  \n",
       "131      3730\n",
       "355      3485\n",
       "98       2476\n",
       "97       2158\n",
       "154       904\n",
       "Name: total, Length: 440, dtype: int64"
      ]
     },
     "execution_count": 22,
     "metadata": {},
     "output_type": "execute_result"
    }
   ],
   "source": [
    "df.total.sort_values(ascending = False)"
   ]
  },
  {
   "cell_type": "code",
   "execution_count": 23,
   "id": "5f3f2252-7183-4d62-86ce-bf35b461040c",
   "metadata": {},
   "outputs": [],
   "source": [
    "# df = df.drop(columns = 'customer_id')"
   ]
  },
  {
   "cell_type": "code",
   "execution_count": 24,
   "id": "5970b954-576c-47d6-aac1-f93cb365953a",
   "metadata": {},
   "outputs": [
    {
     "data": {
      "text/html": [
       "<div>\n",
       "<style scoped>\n",
       "    .dataframe tbody tr th:only-of-type {\n",
       "        vertical-align: middle;\n",
       "    }\n",
       "\n",
       "    .dataframe tbody tr th {\n",
       "        vertical-align: top;\n",
       "    }\n",
       "\n",
       "    .dataframe thead th {\n",
       "        text-align: right;\n",
       "    }\n",
       "</style>\n",
       "<table border=\"1\" class=\"dataframe\">\n",
       "  <thead>\n",
       "    <tr style=\"text-align: right;\">\n",
       "      <th></th>\n",
       "      <th>customer_id</th>\n",
       "      <th>channel</th>\n",
       "      <th>region</th>\n",
       "      <th>fresh</th>\n",
       "      <th>milk</th>\n",
       "      <th>grocery</th>\n",
       "      <th>frozen</th>\n",
       "      <th>detergents_paper</th>\n",
       "      <th>delicassen</th>\n",
       "      <th>total</th>\n",
       "    </tr>\n",
       "  </thead>\n",
       "  <tbody>\n",
       "    <tr>\n",
       "      <th>0</th>\n",
       "      <td>0</td>\n",
       "      <td>2</td>\n",
       "      <td>3</td>\n",
       "      <td>12669</td>\n",
       "      <td>9656</td>\n",
       "      <td>7561</td>\n",
       "      <td>214</td>\n",
       "      <td>2674</td>\n",
       "      <td>1338</td>\n",
       "      <td>34112</td>\n",
       "    </tr>\n",
       "    <tr>\n",
       "      <th>1</th>\n",
       "      <td>1</td>\n",
       "      <td>2</td>\n",
       "      <td>3</td>\n",
       "      <td>7057</td>\n",
       "      <td>9810</td>\n",
       "      <td>9568</td>\n",
       "      <td>1762</td>\n",
       "      <td>3293</td>\n",
       "      <td>1776</td>\n",
       "      <td>33266</td>\n",
       "    </tr>\n",
       "    <tr>\n",
       "      <th>2</th>\n",
       "      <td>2</td>\n",
       "      <td>2</td>\n",
       "      <td>3</td>\n",
       "      <td>6353</td>\n",
       "      <td>8808</td>\n",
       "      <td>7684</td>\n",
       "      <td>2405</td>\n",
       "      <td>3516</td>\n",
       "      <td>7844</td>\n",
       "      <td>36610</td>\n",
       "    </tr>\n",
       "    <tr>\n",
       "      <th>3</th>\n",
       "      <td>3</td>\n",
       "      <td>1</td>\n",
       "      <td>3</td>\n",
       "      <td>13265</td>\n",
       "      <td>1196</td>\n",
       "      <td>4221</td>\n",
       "      <td>6404</td>\n",
       "      <td>507</td>\n",
       "      <td>1788</td>\n",
       "      <td>27381</td>\n",
       "    </tr>\n",
       "    <tr>\n",
       "      <th>4</th>\n",
       "      <td>4</td>\n",
       "      <td>2</td>\n",
       "      <td>3</td>\n",
       "      <td>22615</td>\n",
       "      <td>5410</td>\n",
       "      <td>7198</td>\n",
       "      <td>3915</td>\n",
       "      <td>1777</td>\n",
       "      <td>5185</td>\n",
       "      <td>46100</td>\n",
       "    </tr>\n",
       "  </tbody>\n",
       "</table>\n",
       "</div>"
      ],
      "text/plain": [
       "   customer_id  channel  region  fresh  milk  grocery  frozen  \\\n",
       "0            0        2       3  12669  9656     7561     214   \n",
       "1            1        2       3   7057  9810     9568    1762   \n",
       "2            2        2       3   6353  8808     7684    2405   \n",
       "3            3        1       3  13265  1196     4221    6404   \n",
       "4            4        2       3  22615  5410     7198    3915   \n",
       "\n",
       "   detergents_paper  delicassen  total  \n",
       "0              2674        1338  34112  \n",
       "1              3293        1776  33266  \n",
       "2              3516        7844  36610  \n",
       "3               507        1788  27381  \n",
       "4              1777        5185  46100  "
      ]
     },
     "execution_count": 24,
     "metadata": {},
     "output_type": "execute_result"
    }
   ],
   "source": [
    "df.head()"
   ]
  },
  {
   "cell_type": "code",
   "execution_count": 25,
   "id": "e7dbd2d3-4015-42cb-94ab-ffe473b9bada",
   "metadata": {},
   "outputs": [
    {
     "data": {
      "image/png": "[encoded data removed]",
      "text/plain": [
       "<Figure size 432x288 with 1 Axes>"
      ]
     },
     "metadata": {
      "needs_background": "light"
     },
     "output_type": "display_data"
    },
    {
     "data": {
      "image/png": "[encoded data removed]",
      "text/plain": [
       "<Figure size 432x288 with 1 Axes>"
      ]
     },
     "metadata": {
      "needs_background": "light"
     },
     "output_type": "display_data"
    },
    {
     "data": {
      "image/png": "[encoded data removed]",
      "text/plain": [
       "<Figure size 432x288 with 1 Axes>"
      ]
     },
     "metadata": {
      "needs_background": "light"
     },
     "output_type": "display_data"
    },
    {
     "data": {
      "image/png": "[encoded data removed]",
      "text/plain": [
       "<Figure size 432x288 with 1 Axes>"
      ]
     },
     "metadata": {
      "needs_background": "light"
     },
     "output_type": "display_data"
    },
    {
     "data": {
      "image/png": "[encoded data removed]",
      "text/plain": [
       "<Figure size 432x288 with 1 Axes>"
      ]
     },
     "metadata": {
      "needs_background": "light"
     },
     "output_type": "display_data"
    },
    {
     "data": {
      "image/png": "[encoded data removed]",
      "text/plain": [
       "<Figure size 432x288 with 1 Axes>"
      ]
     },
     "metadata": {
      "needs_background": "light"
     },
     "output_type": "display_data"
    },
    {
     "data": {
      "image/png": "[encoded data removed]",
      "text/plain": [
       "<Figure size 432x288 with 1 Axes>"
      ]
     },
     "metadata": {
      "needs_background": "light"
     },
     "output_type": "display_data"
    }
   ],
   "source": [
    "cols = ['fresh', 'milk', 'grocery', 'frozen', 'detergents_paper', 'delicassen', 'total']\n",
    "for col in cols:\n",
    "    plt.hist(df[col])\n",
    "    plt.title(col)\n",
    "    plt.show()"
   ]
  },
  {
   "cell_type": "code",
   "execution_count": 26,
   "id": "6603b793-7965-4997-9285-b58f03567746",
   "metadata": {},
   "outputs": [
    {
     "data": {
      "text/plain": [
       "array([[0.11294004, 0.13072723, 0.08146416, ..., 0.0654272 , 0.02784731,\n",
       "        0.16688527],\n",
       "       [0.06289903, 0.13282409, 0.10309667, ..., 0.08058985, 0.03698373,\n",
       "        0.16263374],\n",
       "       [0.05662161, 0.11918086, 0.08278992, ..., 0.08605232, 0.16355861,\n",
       "        0.17943886],\n",
       "       ...,\n",
       "       [0.1295431 , 0.21013575, 0.32594285, ..., 0.36346267, 0.03888194,\n",
       "        0.3844623 ],\n",
       "       [0.091727  , 0.02622442, 0.02402535, ..., 0.00404174, 0.04426366,\n",
       "        0.08508093],\n",
       "       [0.02482434, 0.02237109, 0.02702178, ..., 0.01161082, 0.00102211,\n",
       "        0.03359516]])"
      ]
     },
     "execution_count": 26,
     "metadata": {},
     "output_type": "execute_result"
    }
   ],
   "source": [
    "scaler = MinMaxScaler().fit(df[cols])\n",
    "scaled_df = scaler.transform(df[cols])\n",
    "scaled_df"
   ]
  },
  {
   "cell_type": "code",
   "execution_count": 27,
   "id": "fa9ce0b4-dec7-4d41-9589-d62a1e06d8fc",
   "metadata": {},
   "outputs": [
    {
     "data": {
      "text/plain": [
       "['fresh_scaled',\n",
       " 'milk_scaled',\n",
       " 'grocery_scaled',\n",
       " 'frozen_scaled',\n",
       " 'detergents_paper_scaled',\n",
       " 'delicassen_scaled',\n",
       " 'total_scaled']"
      ]
     },
     "execution_count": 27,
     "metadata": {},
     "output_type": "execute_result"
    }
   ],
   "source": [
    "s_cols = [col + '_scaled' for col in cols]\n",
    "s_cols"
   ]
  },
  {
   "cell_type": "code",
   "execution_count": 28,
   "id": "eb3f12c9-5145-4f86-a536-7961c109b2e7",
   "metadata": {},
   "outputs": [],
   "source": [
    "scaled_df = pd.DataFrame(scaled_df, columns=s_cols, index=df.index)"
   ]
  },
  {
   "cell_type": "code",
   "execution_count": 29,
   "id": "4a7170bd-2b31-4a28-9fc9-54fb95fd3b44",
   "metadata": {},
   "outputs": [],
   "source": [
    "scaled_df['customer_id'] = df.customer_id"
   ]
  },
  {
   "cell_type": "code",
   "execution_count": 30,
   "id": "5177e85f-bd4f-4bb0-9c7e-de14e06b93b0",
   "metadata": {},
   "outputs": [
    {
     "data": {
      "text/html": [
       "<div>\n",
       "<style scoped>\n",
       "    .dataframe tbody tr th:only-of-type {\n",
       "        vertical-align: middle;\n",
       "    }\n",
       "\n",
       "    .dataframe tbody tr th {\n",
       "        vertical-align: top;\n",
       "    }\n",
       "\n",
       "    .dataframe thead th {\n",
       "        text-align: right;\n",
       "    }\n",
       "</style>\n",
       "<table border=\"1\" class=\"dataframe\">\n",
       "  <thead>\n",
       "    <tr style=\"text-align: right;\">\n",
       "      <th></th>\n",
       "      <th>fresh_scaled</th>\n",
       "      <th>milk_scaled</th>\n",
       "      <th>grocery_scaled</th>\n",
       "      <th>frozen_scaled</th>\n",
       "      <th>detergents_paper_scaled</th>\n",
       "      <th>delicassen_scaled</th>\n",
       "      <th>total_scaled</th>\n",
       "      <th>customer_id</th>\n",
       "    </tr>\n",
       "  </thead>\n",
       "  <tbody>\n",
       "    <tr>\n",
       "      <th>0</th>\n",
       "      <td>0.112940</td>\n",
       "      <td>0.130727</td>\n",
       "      <td>0.081464</td>\n",
       "      <td>0.003106</td>\n",
       "      <td>0.065427</td>\n",
       "      <td>0.027847</td>\n",
       "      <td>0.166885</td>\n",
       "      <td>0</td>\n",
       "    </tr>\n",
       "    <tr>\n",
       "      <th>1</th>\n",
       "      <td>0.062899</td>\n",
       "      <td>0.132824</td>\n",
       "      <td>0.103097</td>\n",
       "      <td>0.028548</td>\n",
       "      <td>0.080590</td>\n",
       "      <td>0.036984</td>\n",
       "      <td>0.162634</td>\n",
       "      <td>1</td>\n",
       "    </tr>\n",
       "    <tr>\n",
       "      <th>2</th>\n",
       "      <td>0.056622</td>\n",
       "      <td>0.119181</td>\n",
       "      <td>0.082790</td>\n",
       "      <td>0.039116</td>\n",
       "      <td>0.086052</td>\n",
       "      <td>0.163559</td>\n",
       "      <td>0.179439</td>\n",
       "      <td>2</td>\n",
       "    </tr>\n",
       "    <tr>\n",
       "      <th>3</th>\n",
       "      <td>0.118254</td>\n",
       "      <td>0.015536</td>\n",
       "      <td>0.045464</td>\n",
       "      <td>0.104842</td>\n",
       "      <td>0.012346</td>\n",
       "      <td>0.037234</td>\n",
       "      <td>0.133059</td>\n",
       "      <td>3</td>\n",
       "    </tr>\n",
       "    <tr>\n",
       "      <th>4</th>\n",
       "      <td>0.201626</td>\n",
       "      <td>0.072914</td>\n",
       "      <td>0.077552</td>\n",
       "      <td>0.063934</td>\n",
       "      <td>0.043455</td>\n",
       "      <td>0.108093</td>\n",
       "      <td>0.227130</td>\n",
       "      <td>4</td>\n",
       "    </tr>\n",
       "    <tr>\n",
       "      <th>...</th>\n",
       "      <td>...</td>\n",
       "      <td>...</td>\n",
       "      <td>...</td>\n",
       "      <td>...</td>\n",
       "      <td>...</td>\n",
       "      <td>...</td>\n",
       "      <td>...</td>\n",
       "      <td>...</td>\n",
       "    </tr>\n",
       "    <tr>\n",
       "      <th>435</th>\n",
       "      <td>0.264829</td>\n",
       "      <td>0.163338</td>\n",
       "      <td>0.172715</td>\n",
       "      <td>0.215469</td>\n",
       "      <td>0.004385</td>\n",
       "      <td>0.045912</td>\n",
       "      <td>0.363833</td>\n",
       "      <td>435</td>\n",
       "    </tr>\n",
       "    <tr>\n",
       "      <th>436</th>\n",
       "      <td>0.349761</td>\n",
       "      <td>0.018736</td>\n",
       "      <td>0.008202</td>\n",
       "      <td>0.073713</td>\n",
       "      <td>0.002205</td>\n",
       "      <td>0.048874</td>\n",
       "      <td>0.238548</td>\n",
       "      <td>436</td>\n",
       "    </tr>\n",
       "    <tr>\n",
       "      <th>437</th>\n",
       "      <td>0.129543</td>\n",
       "      <td>0.210136</td>\n",
       "      <td>0.325943</td>\n",
       "      <td>0.006771</td>\n",
       "      <td>0.363463</td>\n",
       "      <td>0.038882</td>\n",
       "      <td>0.384462</td>\n",
       "      <td>437</td>\n",
       "    </tr>\n",
       "    <tr>\n",
       "      <th>438</th>\n",
       "      <td>0.091727</td>\n",
       "      <td>0.026224</td>\n",
       "      <td>0.024025</td>\n",
       "      <td>0.016649</td>\n",
       "      <td>0.004042</td>\n",
       "      <td>0.044264</td>\n",
       "      <td>0.085081</td>\n",
       "      <td>438</td>\n",
       "    </tr>\n",
       "    <tr>\n",
       "      <th>439</th>\n",
       "      <td>0.024824</td>\n",
       "      <td>0.022371</td>\n",
       "      <td>0.027022</td>\n",
       "      <td>0.000657</td>\n",
       "      <td>0.011611</td>\n",
       "      <td>0.001022</td>\n",
       "      <td>0.033595</td>\n",
       "      <td>439</td>\n",
       "    </tr>\n",
       "  </tbody>\n",
       "</table>\n",
       "<p>440 rows × 8 columns</p>\n",
       "</div>"
      ],
      "text/plain": [
       "     fresh_scaled  milk_scaled  grocery_scaled  frozen_scaled  \\\n",
       "0        0.112940     0.130727        0.081464       0.003106   \n",
       "1        0.062899     0.132824        0.103097       0.028548   \n",
       "2        0.056622     0.119181        0.082790       0.039116   \n",
       "3        0.118254     0.015536        0.045464       0.104842   \n",
       "4        0.201626     0.072914        0.077552       0.063934   \n",
       "..            ...          ...             ...            ...   \n",
       "435      0.264829     0.163338        0.172715       0.215469   \n",
       "436      0.349761     0.018736        0.008202       0.073713   \n",
       "437      0.129543     0.210136        0.325943       0.006771   \n",
       "438      0.091727     0.026224        0.024025       0.016649   \n",
       "439      0.024824     0.022371        0.027022       0.000657   \n",
       "\n",
       "     detergents_paper_scaled  delicassen_scaled  total_scaled  customer_id  \n",
       "0                   0.065427           0.027847      0.166885            0  \n",
       "1                   0.080590           0.036984      0.162634            1  \n",
       "2                   0.086052           0.163559      0.179439            2  \n",
       "3                   0.012346           0.037234      0.133059            3  \n",
       "4                   0.043455           0.108093      0.227130            4  \n",
       "..                       ...                ...           ...          ...  \n",
       "435                 0.004385           0.045912      0.363833          435  \n",
       "436                 0.002205           0.048874      0.238548          436  \n",
       "437                 0.363463           0.038882      0.384462          437  \n",
       "438                 0.004042           0.044264      0.085081          438  \n",
       "439                 0.011611           0.001022      0.033595          439  \n",
       "\n",
       "[440 rows x 8 columns]"
      ]
     },
     "execution_count": 30,
     "metadata": {},
     "output_type": "execute_result"
    }
   ],
   "source": [
    "scaled_df"
   ]
  },
  {
   "cell_type": "code",
   "execution_count": 31,
   "id": "e8f378bb-b3d3-4af7-8a40-3d7cfbd0897b",
   "metadata": {},
   "outputs": [],
   "source": [
    "dbse = DBSCAN(eps=.1, min_samples=20).fit(scaled_df)"
   ]
  },
  {
   "cell_type": "code",
   "execution_count": 32,
   "id": "c7d88816-933e-464d-b517-2beb74560fe3",
   "metadata": {},
   "outputs": [],
   "source": [
    "df = df.merge(scaled_df, on=df.customer_id).drop(columns='key_0')"
   ]
  },
  {
   "cell_type": "code",
   "execution_count": 33,
   "id": "c91f02a2-df7e-41a4-ac06-6ed485a552f7",
   "metadata": {},
   "outputs": [],
   "source": [
    "df['labels'] = dbse.labels_"
   ]
  },
  {
   "cell_type": "code",
   "execution_count": 34,
   "id": "f3c42628-e4d3-4d89-b5a5-b5cc3812a965",
   "metadata": {},
   "outputs": [
    {
     "data": {
      "text/html": [
       "<div>\n",
       "<style scoped>\n",
       "    .dataframe tbody tr th:only-of-type {\n",
       "        vertical-align: middle;\n",
       "    }\n",
       "\n",
       "    .dataframe tbody tr th {\n",
       "        vertical-align: top;\n",
       "    }\n",
       "\n",
       "    .dataframe thead th {\n",
       "        text-align: right;\n",
       "    }\n",
       "</style>\n",
       "<table border=\"1\" class=\"dataframe\">\n",
       "  <thead>\n",
       "    <tr style=\"text-align: right;\">\n",
       "      <th></th>\n",
       "      <th>customer_id_x</th>\n",
       "      <th>channel</th>\n",
       "      <th>region</th>\n",
       "      <th>fresh</th>\n",
       "      <th>milk</th>\n",
       "      <th>grocery</th>\n",
       "      <th>frozen</th>\n",
       "      <th>detergents_paper</th>\n",
       "      <th>delicassen</th>\n",
       "      <th>total</th>\n",
       "      <th>fresh_scaled</th>\n",
       "      <th>milk_scaled</th>\n",
       "      <th>grocery_scaled</th>\n",
       "      <th>frozen_scaled</th>\n",
       "      <th>detergents_paper_scaled</th>\n",
       "      <th>delicassen_scaled</th>\n",
       "      <th>total_scaled</th>\n",
       "      <th>customer_id_y</th>\n",
       "      <th>labels</th>\n",
       "    </tr>\n",
       "  </thead>\n",
       "  <tbody>\n",
       "    <tr>\n",
       "      <th>0</th>\n",
       "      <td>0</td>\n",
       "      <td>2</td>\n",
       "      <td>3</td>\n",
       "      <td>12669</td>\n",
       "      <td>9656</td>\n",
       "      <td>7561</td>\n",
       "      <td>214</td>\n",
       "      <td>2674</td>\n",
       "      <td>1338</td>\n",
       "      <td>34112</td>\n",
       "      <td>0.112940</td>\n",
       "      <td>0.130727</td>\n",
       "      <td>0.081464</td>\n",
       "      <td>0.003106</td>\n",
       "      <td>0.065427</td>\n",
       "      <td>0.027847</td>\n",
       "      <td>0.166885</td>\n",
       "      <td>0</td>\n",
       "      <td>-1</td>\n",
       "    </tr>\n",
       "    <tr>\n",
       "      <th>1</th>\n",
       "      <td>1</td>\n",
       "      <td>2</td>\n",
       "      <td>3</td>\n",
       "      <td>7057</td>\n",
       "      <td>9810</td>\n",
       "      <td>9568</td>\n",
       "      <td>1762</td>\n",
       "      <td>3293</td>\n",
       "      <td>1776</td>\n",
       "      <td>33266</td>\n",
       "      <td>0.062899</td>\n",
       "      <td>0.132824</td>\n",
       "      <td>0.103097</td>\n",
       "      <td>0.028548</td>\n",
       "      <td>0.080590</td>\n",
       "      <td>0.036984</td>\n",
       "      <td>0.162634</td>\n",
       "      <td>1</td>\n",
       "      <td>-1</td>\n",
       "    </tr>\n",
       "    <tr>\n",
       "      <th>2</th>\n",
       "      <td>2</td>\n",
       "      <td>2</td>\n",
       "      <td>3</td>\n",
       "      <td>6353</td>\n",
       "      <td>8808</td>\n",
       "      <td>7684</td>\n",
       "      <td>2405</td>\n",
       "      <td>3516</td>\n",
       "      <td>7844</td>\n",
       "      <td>36610</td>\n",
       "      <td>0.056622</td>\n",
       "      <td>0.119181</td>\n",
       "      <td>0.082790</td>\n",
       "      <td>0.039116</td>\n",
       "      <td>0.086052</td>\n",
       "      <td>0.163559</td>\n",
       "      <td>0.179439</td>\n",
       "      <td>2</td>\n",
       "      <td>-1</td>\n",
       "    </tr>\n",
       "    <tr>\n",
       "      <th>3</th>\n",
       "      <td>3</td>\n",
       "      <td>1</td>\n",
       "      <td>3</td>\n",
       "      <td>13265</td>\n",
       "      <td>1196</td>\n",
       "      <td>4221</td>\n",
       "      <td>6404</td>\n",
       "      <td>507</td>\n",
       "      <td>1788</td>\n",
       "      <td>27381</td>\n",
       "      <td>0.118254</td>\n",
       "      <td>0.015536</td>\n",
       "      <td>0.045464</td>\n",
       "      <td>0.104842</td>\n",
       "      <td>0.012346</td>\n",
       "      <td>0.037234</td>\n",
       "      <td>0.133059</td>\n",
       "      <td>3</td>\n",
       "      <td>-1</td>\n",
       "    </tr>\n",
       "    <tr>\n",
       "      <th>4</th>\n",
       "      <td>4</td>\n",
       "      <td>2</td>\n",
       "      <td>3</td>\n",
       "      <td>22615</td>\n",
       "      <td>5410</td>\n",
       "      <td>7198</td>\n",
       "      <td>3915</td>\n",
       "      <td>1777</td>\n",
       "      <td>5185</td>\n",
       "      <td>46100</td>\n",
       "      <td>0.201626</td>\n",
       "      <td>0.072914</td>\n",
       "      <td>0.077552</td>\n",
       "      <td>0.063934</td>\n",
       "      <td>0.043455</td>\n",
       "      <td>0.108093</td>\n",
       "      <td>0.227130</td>\n",
       "      <td>4</td>\n",
       "      <td>-1</td>\n",
       "    </tr>\n",
       "    <tr>\n",
       "      <th>...</th>\n",
       "      <td>...</td>\n",
       "      <td>...</td>\n",
       "      <td>...</td>\n",
       "      <td>...</td>\n",
       "      <td>...</td>\n",
       "      <td>...</td>\n",
       "      <td>...</td>\n",
       "      <td>...</td>\n",
       "      <td>...</td>\n",
       "      <td>...</td>\n",
       "      <td>...</td>\n",
       "      <td>...</td>\n",
       "      <td>...</td>\n",
       "      <td>...</td>\n",
       "      <td>...</td>\n",
       "      <td>...</td>\n",
       "      <td>...</td>\n",
       "      <td>...</td>\n",
       "      <td>...</td>\n",
       "    </tr>\n",
       "    <tr>\n",
       "      <th>435</th>\n",
       "      <td>435</td>\n",
       "      <td>1</td>\n",
       "      <td>3</td>\n",
       "      <td>29703</td>\n",
       "      <td>12051</td>\n",
       "      <td>16027</td>\n",
       "      <td>13135</td>\n",
       "      <td>182</td>\n",
       "      <td>2204</td>\n",
       "      <td>73302</td>\n",
       "      <td>0.264829</td>\n",
       "      <td>0.163338</td>\n",
       "      <td>0.172715</td>\n",
       "      <td>0.215469</td>\n",
       "      <td>0.004385</td>\n",
       "      <td>0.045912</td>\n",
       "      <td>0.363833</td>\n",
       "      <td>435</td>\n",
       "      <td>-1</td>\n",
       "    </tr>\n",
       "    <tr>\n",
       "      <th>436</th>\n",
       "      <td>436</td>\n",
       "      <td>1</td>\n",
       "      <td>3</td>\n",
       "      <td>39228</td>\n",
       "      <td>1431</td>\n",
       "      <td>764</td>\n",
       "      <td>4510</td>\n",
       "      <td>93</td>\n",
       "      <td>2346</td>\n",
       "      <td>48372</td>\n",
       "      <td>0.349761</td>\n",
       "      <td>0.018736</td>\n",
       "      <td>0.008202</td>\n",
       "      <td>0.073713</td>\n",
       "      <td>0.002205</td>\n",
       "      <td>0.048874</td>\n",
       "      <td>0.238548</td>\n",
       "      <td>436</td>\n",
       "      <td>-1</td>\n",
       "    </tr>\n",
       "    <tr>\n",
       "      <th>437</th>\n",
       "      <td>437</td>\n",
       "      <td>2</td>\n",
       "      <td>3</td>\n",
       "      <td>14531</td>\n",
       "      <td>15488</td>\n",
       "      <td>30243</td>\n",
       "      <td>437</td>\n",
       "      <td>14841</td>\n",
       "      <td>1867</td>\n",
       "      <td>77407</td>\n",
       "      <td>0.129543</td>\n",
       "      <td>0.210136</td>\n",
       "      <td>0.325943</td>\n",
       "      <td>0.006771</td>\n",
       "      <td>0.363463</td>\n",
       "      <td>0.038882</td>\n",
       "      <td>0.384462</td>\n",
       "      <td>437</td>\n",
       "      <td>-1</td>\n",
       "    </tr>\n",
       "    <tr>\n",
       "      <th>438</th>\n",
       "      <td>438</td>\n",
       "      <td>1</td>\n",
       "      <td>3</td>\n",
       "      <td>10290</td>\n",
       "      <td>1981</td>\n",
       "      <td>2232</td>\n",
       "      <td>1038</td>\n",
       "      <td>168</td>\n",
       "      <td>2125</td>\n",
       "      <td>17834</td>\n",
       "      <td>0.091727</td>\n",
       "      <td>0.026224</td>\n",
       "      <td>0.024025</td>\n",
       "      <td>0.016649</td>\n",
       "      <td>0.004042</td>\n",
       "      <td>0.044264</td>\n",
       "      <td>0.085081</td>\n",
       "      <td>438</td>\n",
       "      <td>-1</td>\n",
       "    </tr>\n",
       "    <tr>\n",
       "      <th>439</th>\n",
       "      <td>439</td>\n",
       "      <td>1</td>\n",
       "      <td>3</td>\n",
       "      <td>2787</td>\n",
       "      <td>1698</td>\n",
       "      <td>2510</td>\n",
       "      <td>65</td>\n",
       "      <td>477</td>\n",
       "      <td>52</td>\n",
       "      <td>7589</td>\n",
       "      <td>0.024824</td>\n",
       "      <td>0.022371</td>\n",
       "      <td>0.027022</td>\n",
       "      <td>0.000657</td>\n",
       "      <td>0.011611</td>\n",
       "      <td>0.001022</td>\n",
       "      <td>0.033595</td>\n",
       "      <td>439</td>\n",
       "      <td>-1</td>\n",
       "    </tr>\n",
       "  </tbody>\n",
       "</table>\n",
       "<p>440 rows × 19 columns</p>\n",
       "</div>"
      ],
      "text/plain": [
       "     customer_id_x  channel  region  fresh   milk  grocery  frozen  \\\n",
       "0                0        2       3  12669   9656     7561     214   \n",
       "1                1        2       3   7057   9810     9568    1762   \n",
       "2                2        2       3   6353   8808     7684    2405   \n",
       "3                3        1       3  13265   1196     4221    6404   \n",
       "4                4        2       3  22615   5410     7198    3915   \n",
       "..             ...      ...     ...    ...    ...      ...     ...   \n",
       "435            435        1       3  29703  12051    16027   13135   \n",
       "436            436        1       3  39228   1431      764    4510   \n",
       "437            437        2       3  14531  15488    30243     437   \n",
       "438            438        1       3  10290   1981     2232    1038   \n",
       "439            439        1       3   2787   1698     2510      65   \n",
       "\n",
       "     detergents_paper  delicassen  total  fresh_scaled  milk_scaled  \\\n",
       "0                2674        1338  34112      0.112940     0.130727   \n",
       "1                3293        1776  33266      0.062899     0.132824   \n",
       "2                3516        7844  36610      0.056622     0.119181   \n",
       "3                 507        1788  27381      0.118254     0.015536   \n",
       "4                1777        5185  46100      0.201626     0.072914   \n",
       "..                ...         ...    ...           ...          ...   \n",
       "435               182        2204  73302      0.264829     0.163338   \n",
       "436                93        2346  48372      0.349761     0.018736   \n",
       "437             14841        1867  77407      0.129543     0.210136   \n",
       "438               168        2125  17834      0.091727     0.026224   \n",
       "439               477          52   7589      0.024824     0.022371   \n",
       "\n",
       "     grocery_scaled  frozen_scaled  detergents_paper_scaled  \\\n",
       "0          0.081464       0.003106                 0.065427   \n",
       "1          0.103097       0.028548                 0.080590   \n",
       "2          0.082790       0.039116                 0.086052   \n",
       "3          0.045464       0.104842                 0.012346   \n",
       "4          0.077552       0.063934                 0.043455   \n",
       "..              ...            ...                      ...   \n",
       "435        0.172715       0.215469                 0.004385   \n",
       "436        0.008202       0.073713                 0.002205   \n",
       "437        0.325943       0.006771                 0.363463   \n",
       "438        0.024025       0.016649                 0.004042   \n",
       "439        0.027022       0.000657                 0.011611   \n",
       "\n",
       "     delicassen_scaled  total_scaled  customer_id_y  labels  \n",
       "0             0.027847      0.166885              0      -1  \n",
       "1             0.036984      0.162634              1      -1  \n",
       "2             0.163559      0.179439              2      -1  \n",
       "3             0.037234      0.133059              3      -1  \n",
       "4             0.108093      0.227130              4      -1  \n",
       "..                 ...           ...            ...     ...  \n",
       "435           0.045912      0.363833            435      -1  \n",
       "436           0.048874      0.238548            436      -1  \n",
       "437           0.038882      0.384462            437      -1  \n",
       "438           0.044264      0.085081            438      -1  \n",
       "439           0.001022      0.033595            439      -1  \n",
       "\n",
       "[440 rows x 19 columns]"
      ]
     },
     "execution_count": 34,
     "metadata": {},
     "output_type": "execute_result"
    }
   ],
   "source": [
    "df[df.labels == -1]"
   ]
  },
  {
   "cell_type": "code",
   "execution_count": 35,
   "id": "ed2f90be-94e3-427a-8425-a646fe5410a2",
   "metadata": {},
   "outputs": [
    {
     "data": {
      "image/png": "[encoded data removed]",
      "text/plain": [
       "<Figure size 864x576 with 1 Axes>"
      ]
     },
     "metadata": {
      "needs_background": "light"
     },
     "output_type": "display_data"
    }
   ],
   "source": [
    "plt.figure(figsize=(12,8))\n",
    "plt.scatter(df['total'], df['fresh'], c=df['labels'])\n",
    "plt.title('Cluster assignment by page count and unique count per user')\n",
    "plt.show()"
   ]
  },
  {
   "cell_type": "markdown",
   "id": "42b889ea-6e2a-4b87-a58f-1be1979d5866",
   "metadata": {},
   "source": [
    "### 2. Use DBSCAN to detect anomalies in requests from the curriculum access logs in the curriculum_logs database."
   ]
  },
  {
   "cell_type": "code",
   "execution_count": 36,
   "id": "689b136c-2d95-49f1-ad4a-ff26524d1726",
   "metadata": {},
   "outputs": [
    {
     "name": "stderr",
     "output_type": "stream",
     "text": [
      "/var/folders/tg/htdzmdmj40vgs24scqz284xm0000gn/T/ipykernel_25331/3925225685.py:1: ParserWarning: Falling back to the 'python' engine because the 'c' engine does not support regex separators (separators > 1 char and different from '\\s+' are interpreted as regex); you can avoid this warning by specifying engine='python'.\n",
      "  logs = pd.read_table(\"curriculum-access.txt\", sep = '\\s', header = None,\n"
     ]
    }
   ],
   "source": [
    "logs = pd.read_table(\"curriculum-access.txt\", sep = '\\s', header = None, \n",
    "                   names = ['date', 'time', 'page', 'id', 'cohort', 'ip'])"
   ]
  },
  {
   "cell_type": "code",
   "execution_count": 37,
   "id": "5ee05ec2-d2ee-40e7-b66b-28c58429a8e1",
   "metadata": {},
   "outputs": [
    {
     "data": {
      "text/html": [
       "<div>\n",
       "<style scoped>\n",
       "    .dataframe tbody tr th:only-of-type {\n",
       "        vertical-align: middle;\n",
       "    }\n",
       "\n",
       "    .dataframe tbody tr th {\n",
       "        vertical-align: top;\n",
       "    }\n",
       "\n",
       "    .dataframe thead th {\n",
       "        text-align: right;\n",
       "    }\n",
       "</style>\n",
       "<table border=\"1\" class=\"dataframe\">\n",
       "  <thead>\n",
       "    <tr style=\"text-align: right;\">\n",
       "      <th></th>\n",
       "      <th>date</th>\n",
       "      <th>time</th>\n",
       "      <th>page</th>\n",
       "      <th>id</th>\n",
       "      <th>cohort</th>\n",
       "      <th>ip</th>\n",
       "    </tr>\n",
       "  </thead>\n",
       "  <tbody>\n",
       "    <tr>\n",
       "      <th>0</th>\n",
       "      <td>2018-01-26</td>\n",
       "      <td>09:55:03</td>\n",
       "      <td>/</td>\n",
       "      <td>1</td>\n",
       "      <td>8.0</td>\n",
       "      <td>98.106.20.62</td>\n",
       "    </tr>\n",
       "    <tr>\n",
       "      <th>1</th>\n",
       "      <td>2018-01-26</td>\n",
       "      <td>09:56:02</td>\n",
       "      <td>java-ii</td>\n",
       "      <td>1</td>\n",
       "      <td>8.0</td>\n",
       "      <td>98.106.20.62</td>\n",
       "    </tr>\n",
       "    <tr>\n",
       "      <th>2</th>\n",
       "      <td>2018-01-26</td>\n",
       "      <td>09:56:05</td>\n",
       "      <td>java-ii/object-oriented-programming</td>\n",
       "      <td>1</td>\n",
       "      <td>8.0</td>\n",
       "      <td>98.106.20.62</td>\n",
       "    </tr>\n",
       "    <tr>\n",
       "      <th>3</th>\n",
       "      <td>2018-01-26</td>\n",
       "      <td>09:56:06</td>\n",
       "      <td>slides/object_oriented_programming</td>\n",
       "      <td>1</td>\n",
       "      <td>8.0</td>\n",
       "      <td>98.106.20.62</td>\n",
       "    </tr>\n",
       "    <tr>\n",
       "      <th>4</th>\n",
       "      <td>2018-01-26</td>\n",
       "      <td>09:56:24</td>\n",
       "      <td>javascript-i/conditionals</td>\n",
       "      <td>2</td>\n",
       "      <td>22.0</td>\n",
       "      <td>98.106.20.62</td>\n",
       "    </tr>\n",
       "  </tbody>\n",
       "</table>\n",
       "</div>"
      ],
      "text/plain": [
       "         date      time                                 page  id  cohort  \\\n",
       "0  2018-01-26  09:55:03                                    /   1     8.0   \n",
       "1  2018-01-26  09:56:02                              java-ii   1     8.0   \n",
       "2  2018-01-26  09:56:05  java-ii/object-oriented-programming   1     8.0   \n",
       "3  2018-01-26  09:56:06   slides/object_oriented_programming   1     8.0   \n",
       "4  2018-01-26  09:56:24            javascript-i/conditionals   2    22.0   \n",
       "\n",
       "             ip  \n",
       "0  98.106.20.62  \n",
       "1  98.106.20.62  \n",
       "2  98.106.20.62  \n",
       "3  98.106.20.62  \n",
       "4  98.106.20.62  "
      ]
     },
     "execution_count": 37,
     "metadata": {},
     "output_type": "execute_result"
    }
   ],
   "source": [
    "logs.head()"
   ]
  },
  {
   "cell_type": "code",
   "execution_count": 38,
   "id": "f7f990e4-681b-4d39-8f7e-02eedf99e570",
   "metadata": {},
   "outputs": [],
   "source": [
    "logs['date'] = pd.to_datetime(logs['date'])"
   ]
  },
  {
   "cell_type": "code",
   "execution_count": 39,
   "id": "7e20e861-bb7c-4db6-a002-e99130350891",
   "metadata": {},
   "outputs": [],
   "source": [
    "# logs = logs.set_index('date', drop=True)"
   ]
  },
  {
   "cell_type": "code",
   "execution_count": 40,
   "id": "e017083b-b6f0-47c6-ba25-0008339b3ff2",
   "metadata": {},
   "outputs": [
    {
     "data": {
      "text/plain": [
       "id   date      \n",
       "138  2018-06-02    198\n",
       "313  2018-12-19    225\n",
       "341  2019-03-03    272\n",
       "422  2019-07-25    253\n",
       "526  2019-12-19    192\n",
       "570  2020-04-05    232\n",
       "     2020-04-16    271\n",
       "     2020-04-26    234\n",
       "Name: page, dtype: int64"
      ]
     },
     "execution_count": 40,
     "metadata": {},
     "output_type": "execute_result"
    }
   ],
   "source": [
    "logs.groupby(['id', 'date'])['page'].count()[logs.groupby(['id', 'date'])['page'].count() > 190]"
   ]
  },
  {
   "cell_type": "code",
   "execution_count": 41,
   "id": "4f4d6d07-964e-41c0-be8d-cb5be2560def",
   "metadata": {},
   "outputs": [
    {
     "data": {
      "text/plain": [
       "id\n",
       "11     11065\n",
       "64     10784\n",
       "53      9534\n",
       "1       5437\n",
       "344     5370\n",
       "314     4695\n",
       "570     3403\n",
       "423     3281\n",
       "211     3256\n",
       "315     2998\n",
       "Name: page, dtype: int64"
      ]
     },
     "execution_count": 41,
     "metadata": {},
     "output_type": "execute_result"
    }
   ],
   "source": [
    "logs.groupby('id').page.count().sort_values(ascending=False).head(10)"
   ]
  },
  {
   "cell_type": "markdown",
   "id": "4a11ec38-ce1e-4b63-bea0-b66c464a4d1c",
   "metadata": {},
   "source": [
    "### 3. Use DBSCAN to detect anomalies in number of bedrooms and finished square feet of property for the filtered dataset you used in the clustering project (single unit properties with a logerror)."
   ]
  },
  {
   "cell_type": "code",
   "execution_count": 2,
   "id": "10e19233-2c1d-4387-9f43-393bbac8e292",
   "metadata": {},
   "outputs": [],
   "source": [
    "df = pd.read_csv('zillow.csv').iloc[:,1:]"
   ]
  },
  {
   "cell_type": "code",
   "execution_count": 3,
   "id": "f9c6bf5c-ed18-4222-9c35-b2eab3ecbdd1",
   "metadata": {},
   "outputs": [],
   "source": [
    "import zillow_wrangle"
   ]
  },
  {
   "cell_type": "code",
   "execution_count": 4,
   "id": "ba06bbf3-5ae4-4bea-8b3a-420f2a5df884",
   "metadata": {},
   "outputs": [],
   "source": [
    "df = zillow_wrangle.prepare_zillow(df)"
   ]
  },
  {
   "cell_type": "code",
   "execution_count": 5,
   "id": "3adb70a4-4ef3-478d-a249-1115891cf0bc",
   "metadata": {},
   "outputs": [
    {
     "data": {
      "text/html": [
       "<div>\n",
       "<style scoped>\n",
       "    .dataframe tbody tr th:only-of-type {\n",
       "        vertical-align: middle;\n",
       "    }\n",
       "\n",
       "    .dataframe tbody tr th {\n",
       "        vertical-align: top;\n",
       "    }\n",
       "\n",
       "    .dataframe thead th {\n",
       "        text-align: right;\n",
       "    }\n",
       "</style>\n",
       "<table border=\"1\" class=\"dataframe\">\n",
       "  <thead>\n",
       "    <tr style=\"text-align: right;\">\n",
       "      <th></th>\n",
       "      <th>beds</th>\n",
       "      <th>area</th>\n",
       "    </tr>\n",
       "  </thead>\n",
       "  <tbody>\n",
       "    <tr>\n",
       "      <th>0</th>\n",
       "      <td>4.0</td>\n",
       "      <td>3100.0</td>\n",
       "    </tr>\n",
       "    <tr>\n",
       "      <th>1</th>\n",
       "      <td>2.0</td>\n",
       "      <td>1465.0</td>\n",
       "    </tr>\n",
       "    <tr>\n",
       "      <th>2</th>\n",
       "      <td>3.0</td>\n",
       "      <td>1243.0</td>\n",
       "    </tr>\n",
       "    <tr>\n",
       "      <th>3</th>\n",
       "      <td>4.0</td>\n",
       "      <td>2376.0</td>\n",
       "    </tr>\n",
       "    <tr>\n",
       "      <th>4</th>\n",
       "      <td>4.0</td>\n",
       "      <td>2962.0</td>\n",
       "    </tr>\n",
       "    <tr>\n",
       "      <th>...</th>\n",
       "      <td>...</td>\n",
       "      <td>...</td>\n",
       "    </tr>\n",
       "    <tr>\n",
       "      <th>52436</th>\n",
       "      <td>4.0</td>\n",
       "      <td>2440.0</td>\n",
       "    </tr>\n",
       "    <tr>\n",
       "      <th>52437</th>\n",
       "      <td>2.0</td>\n",
       "      <td>1286.0</td>\n",
       "    </tr>\n",
       "    <tr>\n",
       "      <th>52438</th>\n",
       "      <td>3.0</td>\n",
       "      <td>1032.0</td>\n",
       "    </tr>\n",
       "    <tr>\n",
       "      <th>52439</th>\n",
       "      <td>4.0</td>\n",
       "      <td>1612.0</td>\n",
       "    </tr>\n",
       "    <tr>\n",
       "      <th>52440</th>\n",
       "      <td>3.0</td>\n",
       "      <td>1762.0</td>\n",
       "    </tr>\n",
       "  </tbody>\n",
       "</table>\n",
       "<p>50698 rows × 2 columns</p>\n",
       "</div>"
      ],
      "text/plain": [
       "       beds    area\n",
       "0       4.0  3100.0\n",
       "1       2.0  1465.0\n",
       "2       3.0  1243.0\n",
       "3       4.0  2376.0\n",
       "4       4.0  2962.0\n",
       "...     ...     ...\n",
       "52436   4.0  2440.0\n",
       "52437   2.0  1286.0\n",
       "52438   3.0  1032.0\n",
       "52439   4.0  1612.0\n",
       "52440   3.0  1762.0\n",
       "\n",
       "[50698 rows x 2 columns]"
      ]
     },
     "execution_count": 5,
     "metadata": {},
     "output_type": "execute_result"
    }
   ],
   "source": [
    "df = df[['beds', 'area']]\n",
    "df"
   ]
  },
  {
   "cell_type": "code",
   "execution_count": 6,
   "id": "7ee44514-c65d-4645-aa4f-e04fcc14df21",
   "metadata": {},
   "outputs": [],
   "source": [
    "scaler = MinMaxScaler().fit(df)\n",
    "scaled_df = scaler.transform(df)"
   ]
  },
  {
   "cell_type": "code",
   "execution_count": 7,
   "id": "df3550dc-459d-4006-8779-8f1c34ca441a",
   "metadata": {},
   "outputs": [
    {
     "data": {
      "text/plain": [
       "['beds_scaled', 'area_scaled']"
      ]
     },
     "execution_count": 7,
     "metadata": {},
     "output_type": "execute_result"
    }
   ],
   "source": [
    "s_cols = [col + '_scaled' for col in df.columns]\n",
    "s_cols"
   ]
  },
  {
   "cell_type": "code",
   "execution_count": 8,
   "id": "30a37542-a55e-444d-9f56-cc5dbb6d5a8a",
   "metadata": {},
   "outputs": [],
   "source": [
    "scaled_df = pd.DataFrame(scaled_df, columns=s_cols, index=df.index)"
   ]
  },
  {
   "cell_type": "code",
   "execution_count": 9,
   "id": "b978a3dc-73d3-4abf-ba94-6ef469228b81",
   "metadata": {},
   "outputs": [],
   "source": [
    "dbsc = DBSCAN(eps=.1, min_samples=20).fit(scaled_df)"
   ]
  },
  {
   "cell_type": "code",
   "execution_count": 10,
   "id": "c46e2d7a-c5d5-4791-af20-b2c29f023d6e",
   "metadata": {},
   "outputs": [
    {
     "data": {
      "text/plain": [
       "(50698,)"
      ]
     },
     "execution_count": 10,
     "metadata": {},
     "output_type": "execute_result"
    }
   ],
   "source": [
    "dbsc.labels_.shape"
   ]
  },
  {
   "cell_type": "code",
   "execution_count": 11,
   "id": "e22c03e5-e33e-4f1b-97ba-31132f4ff4ee",
   "metadata": {},
   "outputs": [
    {
     "data": {
      "text/plain": [
       "(50698, 2)"
      ]
     },
     "execution_count": 11,
     "metadata": {},
     "output_type": "execute_result"
    }
   ],
   "source": [
    "scaled_df.shape"
   ]
  },
  {
   "cell_type": "code",
   "execution_count": 12,
   "id": "9babb46e-3972-455c-ab2c-d2a35567e963",
   "metadata": {},
   "outputs": [],
   "source": [
    "df = df.merge(scaled_df, on=df.index).drop(columns='key_0')"
   ]
  },
  {
   "cell_type": "code",
   "execution_count": 13,
   "id": "154c6682-085a-4892-9423-9ed34c29b9c5",
   "metadata": {},
   "outputs": [],
   "source": [
    "df['labels'] = dbsc.labels_"
   ]
  },
  {
   "cell_type": "code",
   "execution_count": 14,
   "id": "3d2f9609-64f5-4d5d-a652-3cd2dff5dec1",
   "metadata": {},
   "outputs": [
    {
     "data": {
      "text/html": [
       "<div>\n",
       "<style scoped>\n",
       "    .dataframe tbody tr th:only-of-type {\n",
       "        vertical-align: middle;\n",
       "    }\n",
       "\n",
       "    .dataframe tbody tr th {\n",
       "        vertical-align: top;\n",
       "    }\n",
       "\n",
       "    .dataframe thead th {\n",
       "        text-align: right;\n",
       "    }\n",
       "</style>\n",
       "<table border=\"1\" class=\"dataframe\">\n",
       "  <thead>\n",
       "    <tr style=\"text-align: right;\">\n",
       "      <th></th>\n",
       "      <th>beds</th>\n",
       "      <th>area</th>\n",
       "      <th>beds_scaled</th>\n",
       "      <th>area_scaled</th>\n",
       "      <th>labels</th>\n",
       "    </tr>\n",
       "  </thead>\n",
       "  <tbody>\n",
       "    <tr>\n",
       "      <th>672</th>\n",
       "      <td>0.0</td>\n",
       "      <td>5782.0</td>\n",
       "      <td>0.000000</td>\n",
       "      <td>0.259346</td>\n",
       "      <td>-1</td>\n",
       "    </tr>\n",
       "    <tr>\n",
       "      <th>2271</th>\n",
       "      <td>9.0</td>\n",
       "      <td>9918.0</td>\n",
       "      <td>0.818182</td>\n",
       "      <td>0.449062</td>\n",
       "      <td>-1</td>\n",
       "    </tr>\n",
       "    <tr>\n",
       "      <th>2537</th>\n",
       "      <td>4.0</td>\n",
       "      <td>12039.0</td>\n",
       "      <td>0.363636</td>\n",
       "      <td>0.546351</td>\n",
       "      <td>-1</td>\n",
       "    </tr>\n",
       "    <tr>\n",
       "      <th>3291</th>\n",
       "      <td>8.0</td>\n",
       "      <td>11703.0</td>\n",
       "      <td>0.727273</td>\n",
       "      <td>0.530939</td>\n",
       "      <td>-1</td>\n",
       "    </tr>\n",
       "    <tr>\n",
       "      <th>4786</th>\n",
       "      <td>8.0</td>\n",
       "      <td>21929.0</td>\n",
       "      <td>0.727273</td>\n",
       "      <td>1.000000</td>\n",
       "      <td>-1</td>\n",
       "    </tr>\n",
       "    <tr>\n",
       "      <th>7387</th>\n",
       "      <td>9.0</td>\n",
       "      <td>7970.0</td>\n",
       "      <td>0.818182</td>\n",
       "      <td>0.359708</td>\n",
       "      <td>-1</td>\n",
       "    </tr>\n",
       "    <tr>\n",
       "      <th>12800</th>\n",
       "      <td>8.0</td>\n",
       "      <td>11649.0</td>\n",
       "      <td>0.727273</td>\n",
       "      <td>0.528462</td>\n",
       "      <td>-1</td>\n",
       "    </tr>\n",
       "    <tr>\n",
       "      <th>15843</th>\n",
       "      <td>7.0</td>\n",
       "      <td>20612.0</td>\n",
       "      <td>0.636364</td>\n",
       "      <td>0.939590</td>\n",
       "      <td>-1</td>\n",
       "    </tr>\n",
       "    <tr>\n",
       "      <th>21078</th>\n",
       "      <td>11.0</td>\n",
       "      <td>4012.0</td>\n",
       "      <td>1.000000</td>\n",
       "      <td>0.178157</td>\n",
       "      <td>-1</td>\n",
       "    </tr>\n",
       "    <tr>\n",
       "      <th>25841</th>\n",
       "      <td>9.0</td>\n",
       "      <td>8932.0</td>\n",
       "      <td>0.818182</td>\n",
       "      <td>0.403835</td>\n",
       "      <td>-1</td>\n",
       "    </tr>\n",
       "    <tr>\n",
       "      <th>25911</th>\n",
       "      <td>6.0</td>\n",
       "      <td>13598.0</td>\n",
       "      <td>0.545455</td>\n",
       "      <td>0.617862</td>\n",
       "      <td>-1</td>\n",
       "    </tr>\n",
       "    <tr>\n",
       "      <th>26928</th>\n",
       "      <td>6.0</td>\n",
       "      <td>15450.0</td>\n",
       "      <td>0.545455</td>\n",
       "      <td>0.702812</td>\n",
       "      <td>-1</td>\n",
       "    </tr>\n",
       "    <tr>\n",
       "      <th>32300</th>\n",
       "      <td>10.0</td>\n",
       "      <td>4294.0</td>\n",
       "      <td>0.909091</td>\n",
       "      <td>0.191092</td>\n",
       "      <td>-1</td>\n",
       "    </tr>\n",
       "    <tr>\n",
       "      <th>34502</th>\n",
       "      <td>9.0</td>\n",
       "      <td>9708.0</td>\n",
       "      <td>0.818182</td>\n",
       "      <td>0.439429</td>\n",
       "      <td>-1</td>\n",
       "    </tr>\n",
       "    <tr>\n",
       "      <th>35488</th>\n",
       "      <td>8.0</td>\n",
       "      <td>11638.0</td>\n",
       "      <td>0.727273</td>\n",
       "      <td>0.527957</td>\n",
       "      <td>-1</td>\n",
       "    </tr>\n",
       "    <tr>\n",
       "      <th>47017</th>\n",
       "      <td>10.0</td>\n",
       "      <td>17245.0</td>\n",
       "      <td>0.909091</td>\n",
       "      <td>0.785147</td>\n",
       "      <td>-1</td>\n",
       "    </tr>\n",
       "  </tbody>\n",
       "</table>\n",
       "</div>"
      ],
      "text/plain": [
       "       beds     area  beds_scaled  area_scaled  labels\n",
       "672     0.0   5782.0     0.000000     0.259346      -1\n",
       "2271    9.0   9918.0     0.818182     0.449062      -1\n",
       "2537    4.0  12039.0     0.363636     0.546351      -1\n",
       "3291    8.0  11703.0     0.727273     0.530939      -1\n",
       "4786    8.0  21929.0     0.727273     1.000000      -1\n",
       "7387    9.0   7970.0     0.818182     0.359708      -1\n",
       "12800   8.0  11649.0     0.727273     0.528462      -1\n",
       "15843   7.0  20612.0     0.636364     0.939590      -1\n",
       "21078  11.0   4012.0     1.000000     0.178157      -1\n",
       "25841   9.0   8932.0     0.818182     0.403835      -1\n",
       "25911   6.0  13598.0     0.545455     0.617862      -1\n",
       "26928   6.0  15450.0     0.545455     0.702812      -1\n",
       "32300  10.0   4294.0     0.909091     0.191092      -1\n",
       "34502   9.0   9708.0     0.818182     0.439429      -1\n",
       "35488   8.0  11638.0     0.727273     0.527957      -1\n",
       "47017  10.0  17245.0     0.909091     0.785147      -1"
      ]
     },
     "execution_count": 14,
     "metadata": {},
     "output_type": "execute_result"
    }
   ],
   "source": [
    "df[df.labels == -1]"
   ]
  },
  {
   "cell_type": "code",
   "execution_count": 15,
   "id": "b2b4b97b-20ee-4455-8b30-8c819d6711d7",
   "metadata": {},
   "outputs": [
    {
     "data": {
      "image/png": "[encoded data removed]",
      "text/plain": [
       "<Figure size 864x576 with 1 Axes>"
      ]
     },
     "metadata": {
      "needs_background": "light"
     },
     "output_type": "display_data"
    }
   ],
   "source": [
    "plt.figure(figsize=(12,8))\n",
    "plt.scatter(df['beds'], df['area'], c=df['labels'])\n",
    "plt.title('Cluster assignment')\n",
    "plt.show()"
   ]
  },
  {
   "cell_type": "code",
   "execution_count": null,
   "id": "02ae34a8-8fcf-46e8-a855-60d153c439b6",
   "metadata": {},
   "outputs": [],
   "source": []
  }
 ],
 "metadata": {
  "kernelspec": {
   "display_name": "Python 3 (ipykernel)",
   "language": "python",
   "name": "python3"
  },
  "language_info": {
   "codemirror_mode": {
    "name": "ipython",
    "version": 3
   },
   "file_extension": ".py",
   "mimetype": "text/x-python",
   "name": "python",
   "nbconvert_exporter": "python",
   "pygments_lexer": "ipython3",
   "version": "3.9.12"
  }
 },
 "nbformat": 4,
 "nbformat_minor": 5
}
