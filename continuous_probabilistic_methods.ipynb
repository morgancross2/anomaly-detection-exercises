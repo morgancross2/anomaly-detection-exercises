{
 "cells": [
  {
   "cell_type": "code",
   "execution_count": 1,
   "id": "4931a256-7cd0-4922-80e2-84623101e6dc",
   "metadata": {},
   "outputs": [],
   "source": [
    "import numpy as np\n",
    "import pandas as pd\n",
    "import matplotlib.pyplot as plt\n",
    "import seaborn as sns"
   ]
  },
  {
   "cell_type": "markdown",
   "id": "c7ac2e0e-4cf5-4050-98ca-8d4420ac59d9",
   "metadata": {},
   "source": [
    "### 1. Using lemonade.csv dataset and focusing on continuous variables:"
   ]
  },
  {
   "cell_type": "code",
   "execution_count": 2,
   "id": "183ed90c-0ed5-46f5-8379-8cf39de4236b",
   "metadata": {},
   "outputs": [],
   "source": [
    "url = 'https://gist.githubusercontent.com/ryanorsinger/19bc7eccd6279661bd13307026628ace/raw/e4b5d6787015a4782f96cad6d1d62a8bdbac54c7/lemonade.csv'"
   ]
  },
  {
   "cell_type": "code",
   "execution_count": 4,
   "id": "455f8f17-92ae-4250-a510-d3cc6ef4a1f6",
   "metadata": {},
   "outputs": [],
   "source": [
    "df = pd.read_csv(url)"
   ]
  },
  {
   "cell_type": "code",
   "execution_count": 7,
   "id": "f1fac7f4-f094-43f2-ac96-bf3080ed7273",
   "metadata": {},
   "outputs": [
    {
     "data": {
      "text/html": [
       "<div>\n",
       "<style scoped>\n",
       "    .dataframe tbody tr th:only-of-type {\n",
       "        vertical-align: middle;\n",
       "    }\n",
       "\n",
       "    .dataframe tbody tr th {\n",
       "        vertical-align: top;\n",
       "    }\n",
       "\n",
       "    .dataframe thead th {\n",
       "        text-align: right;\n",
       "    }\n",
       "</style>\n",
       "<table border=\"1\" class=\"dataframe\">\n",
       "  <thead>\n",
       "    <tr style=\"text-align: right;\">\n",
       "      <th></th>\n",
       "      <th>Date</th>\n",
       "      <th>Day</th>\n",
       "      <th>Temperature</th>\n",
       "      <th>Rainfall</th>\n",
       "      <th>Flyers</th>\n",
       "      <th>Price</th>\n",
       "      <th>Sales</th>\n",
       "    </tr>\n",
       "  </thead>\n",
       "  <tbody>\n",
       "    <tr>\n",
       "      <th>0</th>\n",
       "      <td>1/1/17</td>\n",
       "      <td>Sunday</td>\n",
       "      <td>27.0</td>\n",
       "      <td>2.00</td>\n",
       "      <td>15</td>\n",
       "      <td>0.5</td>\n",
       "      <td>10</td>\n",
       "    </tr>\n",
       "    <tr>\n",
       "      <th>1</th>\n",
       "      <td>1/2/17</td>\n",
       "      <td>Monday</td>\n",
       "      <td>28.9</td>\n",
       "      <td>1.33</td>\n",
       "      <td>15</td>\n",
       "      <td>0.5</td>\n",
       "      <td>13</td>\n",
       "    </tr>\n",
       "    <tr>\n",
       "      <th>2</th>\n",
       "      <td>1/3/17</td>\n",
       "      <td>Tuesday</td>\n",
       "      <td>34.5</td>\n",
       "      <td>1.33</td>\n",
       "      <td>27</td>\n",
       "      <td>0.5</td>\n",
       "      <td>15</td>\n",
       "    </tr>\n",
       "    <tr>\n",
       "      <th>3</th>\n",
       "      <td>1/4/17</td>\n",
       "      <td>Wednesday</td>\n",
       "      <td>44.1</td>\n",
       "      <td>1.05</td>\n",
       "      <td>28</td>\n",
       "      <td>0.5</td>\n",
       "      <td>17</td>\n",
       "    </tr>\n",
       "    <tr>\n",
       "      <th>4</th>\n",
       "      <td>1/5/17</td>\n",
       "      <td>Thursday</td>\n",
       "      <td>42.4</td>\n",
       "      <td>1.00</td>\n",
       "      <td>33</td>\n",
       "      <td>0.5</td>\n",
       "      <td>18</td>\n",
       "    </tr>\n",
       "  </tbody>\n",
       "</table>\n",
       "</div>"
      ],
      "text/plain": [
       "     Date        Day  Temperature  Rainfall  Flyers  Price  Sales\n",
       "0  1/1/17     Sunday         27.0      2.00      15    0.5     10\n",
       "1  1/2/17     Monday         28.9      1.33      15    0.5     13\n",
       "2  1/3/17    Tuesday         34.5      1.33      27    0.5     15\n",
       "3  1/4/17  Wednesday         44.1      1.05      28    0.5     17\n",
       "4  1/5/17   Thursday         42.4      1.00      33    0.5     18"
      ]
     },
     "execution_count": 7,
     "metadata": {},
     "output_type": "execute_result"
    }
   ],
   "source": [
    "df.head()"
   ]
  },
  {
   "cell_type": "markdown",
   "id": "1e868d18-1b77-4d3c-92dd-4622cb060d44",
   "metadata": {},
   "source": [
    "Use the IQR Range Rule and the upper and lower bounds to identify the lower outliers of each column of lemonade.csv, using the multiplier of 1.5. Do these lower outliers make sense? Which outliers should be kept?"
   ]
  },
  {
   "cell_type": "code",
   "execution_count": 20,
   "id": "d66bbf02-a6c2-47dd-bb2c-75a526e699f5",
   "metadata": {},
   "outputs": [
    {
     "name": "stdout",
     "output_type": "stream",
     "text": [
      "|     | Date     | Day    |   Temperature |   Rainfall |   Flyers |   Price |   Sales |\n",
      "|----:|:---------|:-------|--------------:|-----------:|---------:|--------:|--------:|\n",
      "| 364 | 12/31/17 | Sunday |          15.1 |        2.5 |        9 |     0.5 |       7 |\n",
      "Temperature\n",
      "\n",
      "\n",
      "| Date   | Day   | Temperature   | Rainfall   | Flyers   | Price   | Sales   |\n",
      "|--------|-------|---------------|------------|----------|---------|---------|\n",
      "Rainfall\n",
      "\n",
      "\n",
      "|     | Date     | Day     |   Temperature |   Rainfall |   Flyers |   Price |   Sales |\n",
      "|----:|:---------|:--------|--------------:|-----------:|---------:|--------:|--------:|\n",
      "| 324 | 11/21/17 | Tuesday |            47 |       0.95 |      -38 |     0.5 |      20 |\n",
      "Flyers\n",
      "\n",
      "\n",
      "| Date   | Day   | Temperature   | Rainfall   | Flyers   | Price   | Sales   |\n",
      "|--------|-------|---------------|------------|----------|---------|---------|\n",
      "Price\n",
      "\n",
      "\n",
      "| Date   | Day   | Temperature   | Rainfall   | Flyers   | Price   | Sales   |\n",
      "|--------|-------|---------------|------------|----------|---------|---------|\n",
      "Sales\n",
      "\n",
      "\n"
     ]
    }
   ],
   "source": [
    "def iqr_lower_outliers(df, col, multiplier=1.5):\n",
    "\t\t\tmultiplier = multiplier\n",
    "\t\t\tq1 = df[col].quantile(.25)\n",
    "\t\t\tq3 = df[col].quantile(.75)\n",
    "\t\t\tiqr = q3 - q1\n",
    "\t\t\tlower_fence = q1 - (multiplier*iqr)\n",
    "\t\t\treturn df[(df[col] < lower_fence)]\n",
    "\n",
    "for col in ['Temperature', 'Rainfall', 'Flyers', 'Price', 'Sales']:\n",
    "    print(iqr_lower_outliers(df, col).to_markdown())\n",
    "    print(col)\n",
    "    print()\n",
    "    print()"
   ]
  },
  {
   "cell_type": "code",
   "execution_count": 19,
   "id": "992fd66d-f2d1-43be-9ff4-fd2094a9bc89",
   "metadata": {},
   "outputs": [],
   "source": [
    "# Temperature should be kept. Abnormally low temperatures make sense in december\n",
    "# Flyers should be dropped. Cannot hand out negative number of flyers"
   ]
  },
  {
   "cell_type": "markdown",
   "id": "e71471d0-426d-4ff3-b750-25461d9ae015",
   "metadata": {},
   "source": [
    "Use the IQR Range Rule and the upper and upper bounds to identify the upper outliers of each column of lemonade.csv, using the multiplier of 1.5. Do these upper outliers make sense? Which outliers should be kept?"
   ]
  },
  {
   "cell_type": "code",
   "execution_count": 21,
   "id": "d4aece92-54bf-4c4c-bb57-67f6aa2bd3b2",
   "metadata": {},
   "outputs": [
    {
     "name": "stdout",
     "output_type": "stream",
     "text": [
      "|    | Date    | Day      |   Temperature |   Rainfall |   Flyers |   Price |   Sales |\n",
      "|---:|:--------|:---------|--------------:|-----------:|---------:|--------:|--------:|\n",
      "| 41 | 2/11/17 | Saturday |           212 |       0.91 |       35 |     0.5 |      21 |\n",
      "Temperature\n",
      "\n",
      "\n",
      "|     | Date     | Day       |   Temperature |   Rainfall |   Flyers |   Price |   Sales |\n",
      "|----:|:---------|:----------|--------------:|-----------:|---------:|--------:|--------:|\n",
      "|   0 | 1/1/17   | Sunday    |          27   |       2    |       15 |     0.5 |      10 |\n",
      "|   1 | 1/2/17   | Monday    |          28.9 |       1.33 |       15 |     0.5 |      13 |\n",
      "|   2 | 1/3/17   | Tuesday   |          34.5 |       1.33 |       27 |     0.5 |      15 |\n",
      "|   5 | 1/6/17   | Friday    |          25.3 |       1.54 |       23 |     0.5 |      11 |\n",
      "|   6 | 1/7/17   | Saturday  |          32.9 |       1.54 |       19 |     0.5 |      13 |\n",
      "|  10 | 1/11/17  | Wednesday |          32.6 |       1.54 |       23 |     0.5 |      12 |\n",
      "|  11 | 1/12/17  | Thursday  |          38.2 |       1.33 |       16 |     0.5 |      14 |\n",
      "|  12 | 1/13/17  | Friday    |          37.5 |       1.33 |       19 |     0.5 |      15 |\n",
      "|  15 | 1/16/17  | Monday    |          30.6 |       1.67 |       24 |     0.5 |      12 |\n",
      "|  16 | 1/17/17  | Tuesday   |          32.2 |       1.43 |       26 |     0.5 |      14 |\n",
      "|  19 | 1/20/17  | Friday    |          31.6 |       1.43 |       20 |     0.5 |      12 |\n",
      "|  23 | 1/24/17  | Tuesday   |          28.6 |       1.54 |       20 |     0.5 |      12 |\n",
      "|  27 | 1/28/17  | Saturday  |          34.9 |       1.33 |       15 |     0.5 |      13 |\n",
      "|  28 | 1/29/17  | Sunday    |          35.2 |       1.33 |       27 |     0.5 |      14 |\n",
      "| 337 | 12/4/17  | Monday    |          34.9 |       1.54 |       16 |     0.5 |      13 |\n",
      "| 338 | 12/5/17  | Tuesday   |          22   |       1.82 |       11 |     0.5 |      10 |\n",
      "| 342 | 12/9/17  | Saturday  |          31.2 |       1.43 |       19 |     0.5 |      14 |\n",
      "| 343 | 12/10/17 | Sunday    |          31.3 |       1.82 |       15 |     0.5 |      11 |\n",
      "| 345 | 12/12/17 | Tuesday   |          33.5 |       1.33 |       22 |     0.5 |      15 |\n",
      "| 346 | 12/13/17 | Wednesday |          32.2 |       1.43 |       26 |     0.5 |      14 |\n",
      "| 347 | 12/14/17 | Thursday  |          31.9 |       1.54 |       24 |     0.5 |      13 |\n",
      "| 350 | 12/17/17 | Sunday    |          32.2 |       1.33 |       16 |     0.5 |      14 |\n",
      "| 351 | 12/18/17 | Monday    |          30.9 |       1.43 |       27 |     0.5 |      13 |\n",
      "| 354 | 12/21/17 | Thursday  |          40.5 |       1.33 |       23 |     0.5 |      15 |\n",
      "| 355 | 12/22/17 | Friday    |          30.9 |       1.54 |       17 |     0.5 |      13 |\n",
      "| 359 | 12/26/17 | Tuesday   |          28.9 |       1.43 |       23 |     0.5 |      13 |\n",
      "| 363 | 12/30/17 | Saturday  |          30.9 |       1.43 |       22 |     0.5 |      13 |\n",
      "| 364 | 12/31/17 | Sunday    |          15.1 |       2.5  |        9 |     0.5 |       7 |\n",
      "Rainfall\n",
      "\n",
      "\n",
      "|     | Date    | Day    |   Temperature |   Rainfall |   Flyers |   Price |   Sales |\n",
      "|----:|:--------|:-------|--------------:|-----------:|---------:|--------:|--------:|\n",
      "| 166 | 6/16/17 | Friday |          99.3 |       0.47 |       77 |     0.5 |      41 |\n",
      "| 194 | 7/14/17 | Friday |          92   |       0.5  |       80 |     0.5 |      40 |\n",
      "Flyers\n",
      "\n",
      "\n",
      "| Date   | Day   | Temperature   | Rainfall   | Flyers   | Price   | Sales   |\n",
      "|--------|-------|---------------|------------|----------|---------|---------|\n",
      "Price\n",
      "\n",
      "\n",
      "|     | Date   | Day      |   Temperature |   Rainfall |   Flyers |   Price |   Sales |\n",
      "|----:|:-------|:---------|--------------:|-----------:|---------:|--------:|--------:|\n",
      "| 181 | 7/1/17 | Saturday |         102.9 |       0.47 |       59 |     0.5 |     143 |\n",
      "| 182 | 7/2/17 | Sunday   |          93.4 |       0.51 |       68 |     0.5 |     158 |\n",
      "| 183 | 7/3/17 | Monday   |          81.5 |       0.54 |       68 |     0.5 |     235 |\n",
      "| 184 | 7/4/17 | Tuesday  |          84.2 |       0.59 |       49 |     0.5 |     534 |\n",
      "Sales\n",
      "\n",
      "\n"
     ]
    }
   ],
   "source": [
    "def iqr_upper_outliers(df, col, multiplier=1.5):\n",
    "\t\t\tmultiplier = multiplier\n",
    "\t\t\tq1 = df[col].quantile(.25)\n",
    "\t\t\tq3 = df[col].quantile(.75)\n",
    "\t\t\tiqr = q3 - q1\n",
    "\t\t\tupper_fence = q3 + (multiplier*iqr)\n",
    "\t\t\treturn df[(df[col] > upper_fence)]\n",
    "\n",
    "for col in ['Temperature', 'Rainfall', 'Flyers', 'Price', 'Sales']:\n",
    "    print(iqr_upper_outliers(df, col).to_markdown())\n",
    "    print(col)\n",
    "    print()\n",
    "    print()"
   ]
  },
  {
   "cell_type": "code",
   "execution_count": 22,
   "id": "c4230351-bdc5-462d-89e0-8eebc339085a",
   "metadata": {},
   "outputs": [],
   "source": [
    "# temperature should be dropped 212 is not realistic\n",
    "# rainfall should be kept, seems to be rainy season\n",
    "# flyers should be kept, seemed to be nice weather and productive days\n",
    "# sales should be kept, crazy good days for sales, 4th of july weekend"
   ]
  },
  {
   "cell_type": "markdown",
   "id": "adb09ee8-678b-4096-98ef-2ef8ad0db712",
   "metadata": {},
   "source": [
    "Using the multiplier of 3, IQR Range Rule, and the lower bounds, identify the outliers below the lower bound in each colum of lemonade.csv. Do these lower outliers make sense? Which outliers should be kept?"
   ]
  },
  {
   "cell_type": "code",
   "execution_count": 23,
   "id": "cb0bb795-a592-44fb-bbc6-d068052b4c6f",
   "metadata": {},
   "outputs": [
    {
     "name": "stdout",
     "output_type": "stream",
     "text": [
      "| Date   | Day   | Temperature   | Rainfall   | Flyers   | Price   | Sales   |\n",
      "|--------|-------|---------------|------------|----------|---------|---------|\n",
      "Temperature\n",
      "\n",
      "\n",
      "| Date   | Day   | Temperature   | Rainfall   | Flyers   | Price   | Sales   |\n",
      "|--------|-------|---------------|------------|----------|---------|---------|\n",
      "Rainfall\n",
      "\n",
      "\n",
      "|     | Date     | Day     |   Temperature |   Rainfall |   Flyers |   Price |   Sales |\n",
      "|----:|:---------|:--------|--------------:|-----------:|---------:|--------:|--------:|\n",
      "| 324 | 11/21/17 | Tuesday |            47 |       0.95 |      -38 |     0.5 |      20 |\n",
      "Flyers\n",
      "\n",
      "\n",
      "| Date   | Day   | Temperature   | Rainfall   | Flyers   | Price   | Sales   |\n",
      "|--------|-------|---------------|------------|----------|---------|---------|\n",
      "Price\n",
      "\n",
      "\n",
      "| Date   | Day   | Temperature   | Rainfall   | Flyers   | Price   | Sales   |\n",
      "|--------|-------|---------------|------------|----------|---------|---------|\n",
      "Sales\n",
      "\n",
      "\n"
     ]
    }
   ],
   "source": [
    "for col in ['Temperature', 'Rainfall', 'Flyers', 'Price', 'Sales']:\n",
    "    print(iqr_lower_outliers(df, col, 3).to_markdown())\n",
    "    print(col)\n",
    "    print()\n",
    "    print()"
   ]
  },
  {
   "cell_type": "code",
   "execution_count": 24,
   "id": "d572c110-9809-4f9a-b985-96fd76db4dfc",
   "metadata": {},
   "outputs": [],
   "source": [
    "# flyers should be dropped"
   ]
  },
  {
   "cell_type": "markdown",
   "id": "4303ce20-5ef4-4f05-b126-e48490a5f1d6",
   "metadata": {},
   "source": [
    "Using the multiplier of 3, IQR Range Rule, and the upper bounds, identify the outliers above the upper_bound in each colum of lemonade.csv. Do these upper outliers make sense? Which outliers should be kept?"
   ]
  },
  {
   "cell_type": "code",
   "execution_count": 25,
   "id": "85a6758a-38f5-4620-ba8c-e9c808a14e12",
   "metadata": {},
   "outputs": [
    {
     "name": "stdout",
     "output_type": "stream",
     "text": [
      "|    | Date    | Day      |   Temperature |   Rainfall |   Flyers |   Price |   Sales |\n",
      "|---:|:--------|:---------|--------------:|-----------:|---------:|--------:|--------:|\n",
      "| 41 | 2/11/17 | Saturday |           212 |       0.91 |       35 |     0.5 |      21 |\n",
      "Temperature\n",
      "\n",
      "\n",
      "|     | Date     | Day     |   Temperature |   Rainfall |   Flyers |   Price |   Sales |\n",
      "|----:|:---------|:--------|--------------:|-----------:|---------:|--------:|--------:|\n",
      "|   0 | 1/1/17   | Sunday  |          27   |       2    |       15 |     0.5 |      10 |\n",
      "| 338 | 12/5/17  | Tuesday |          22   |       1.82 |       11 |     0.5 |      10 |\n",
      "| 343 | 12/10/17 | Sunday  |          31.3 |       1.82 |       15 |     0.5 |      11 |\n",
      "| 364 | 12/31/17 | Sunday  |          15.1 |       2.5  |        9 |     0.5 |       7 |\n",
      "Rainfall\n",
      "\n",
      "\n",
      "| Date   | Day   | Temperature   | Rainfall   | Flyers   | Price   | Sales   |\n",
      "|--------|-------|---------------|------------|----------|---------|---------|\n",
      "Flyers\n",
      "\n",
      "\n",
      "| Date   | Day   | Temperature   | Rainfall   | Flyers   | Price   | Sales   |\n",
      "|--------|-------|---------------|------------|----------|---------|---------|\n",
      "Price\n",
      "\n",
      "\n",
      "|     | Date   | Day      |   Temperature |   Rainfall |   Flyers |   Price |   Sales |\n",
      "|----:|:-------|:---------|--------------:|-----------:|---------:|--------:|--------:|\n",
      "| 181 | 7/1/17 | Saturday |         102.9 |       0.47 |       59 |     0.5 |     143 |\n",
      "| 182 | 7/2/17 | Sunday   |          93.4 |       0.51 |       68 |     0.5 |     158 |\n",
      "| 183 | 7/3/17 | Monday   |          81.5 |       0.54 |       68 |     0.5 |     235 |\n",
      "| 184 | 7/4/17 | Tuesday  |          84.2 |       0.59 |       49 |     0.5 |     534 |\n",
      "Sales\n",
      "\n",
      "\n"
     ]
    }
   ],
   "source": [
    "for col in ['Temperature', 'Rainfall', 'Flyers', 'Price', 'Sales']:\n",
    "    print(iqr_upper_outliers(df, col, 3).to_markdown())\n",
    "    print(col)\n",
    "    print()\n",
    "    print()"
   ]
  },
  {
   "cell_type": "code",
   "execution_count": 26,
   "id": "081fa4c2-1e8a-4c9e-81c6-18e57fabcbc0",
   "metadata": {},
   "outputs": [],
   "source": [
    "# same comments as before"
   ]
  },
  {
   "cell_type": "markdown",
   "id": "d493e316-7c9c-4cbf-bc1d-a8b2499bfc86",
   "metadata": {},
   "source": [
    "### 2. Identify if any columns in lemonade.csv are normally distributed. For normally distributed columns:"
   ]
  },
  {
   "cell_type": "code",
   "execution_count": 28,
   "id": "26f96cc6-73cc-46bc-b331-cf55c85c0555",
   "metadata": {},
   "outputs": [
    {
     "data": {
      "image/png": "[encoded data removed]",
      "text/plain": [
       "<Figure size 432x288 with 1 Axes>"
      ]
     },
     "metadata": {
      "needs_background": "light"
     },
     "output_type": "display_data"
    },
    {
     "name": "stdout",
     "output_type": "stream",
     "text": [
      "\n",
      "\n"
     ]
    },
    {
     "data": {
      "image/png": "[encoded data removed]",
      "text/plain": [
       "<Figure size 432x288 with 1 Axes>"
      ]
     },
     "metadata": {
      "needs_background": "light"
     },
     "output_type": "display_data"
    },
    {
     "name": "stdout",
     "output_type": "stream",
     "text": [
      "\n",
      "\n"
     ]
    },
    {
     "data": {
      "image/png": "[encoded data removed]",
      "text/plain": [
       "<Figure size 432x288 with 1 Axes>"
      ]
     },
     "metadata": {
      "needs_background": "light"
     },
     "output_type": "display_data"
    },
    {
     "name": "stdout",
     "output_type": "stream",
     "text": [
      "\n",
      "\n"
     ]
    },
    {
     "data": {
      "image/png": "[encoded data removed]",
      "text/plain": [
       "<Figure size 432x288 with 1 Axes>"
      ]
     },
     "metadata": {
      "needs_background": "light"
     },
     "output_type": "display_data"
    },
    {
     "name": "stdout",
     "output_type": "stream",
     "text": [
      "\n",
      "\n"
     ]
    },
    {
     "data": {
      "image/png": "[encoded data removed]",
      "text/plain": [
       "<Figure size 432x288 with 1 Axes>"
      ]
     },
     "metadata": {
      "needs_background": "light"
     },
     "output_type": "display_data"
    },
    {
     "name": "stdout",
     "output_type": "stream",
     "text": [
      "\n",
      "\n"
     ]
    }
   ],
   "source": [
    "for col in ['Temperature', 'Rainfall', 'Flyers', 'Price', 'Sales']:\n",
    "    df[col].hist()\n",
    "    plt.title(col)\n",
    "    plt.show()\n",
    "    print()\n",
    "    print()"
   ]
  },
  {
   "cell_type": "code",
   "execution_count": 29,
   "id": "3318252e-8892-483d-b828-3d06e76edac0",
   "metadata": {},
   "outputs": [],
   "source": [
    "# temp, rainfall, and flyers are normal-ish\n",
    "# price and sales are not"
   ]
  },
  {
   "cell_type": "markdown",
   "id": "45bc3e3c-6d08-4f1a-96d1-d9f0f87a62b3",
   "metadata": {},
   "source": [
    "Use a 2 sigma decision rule to isolate the outliers.\n",
    "Do these make sense?\n",
    "Should certain outliers be kept or removed?"
   ]
  },
  {
   "cell_type": "code",
   "execution_count": 33,
   "id": "494e619b-e745-443a-afc8-e56c70215b18",
   "metadata": {},
   "outputs": [],
   "source": [
    "def zscores(df, col, threshold=3):\n",
    "    df[f'{col}_zscores'] = (df[col] - df[col].mean()) / df[col].std()\n",
    "    return df[df[f'{col}_zscores'].abs() >= threshold]"
   ]
  },
  {
   "cell_type": "code",
   "execution_count": 34,
   "id": "9930ab07-aebb-4894-88b6-885bfb5bf7ad",
   "metadata": {},
   "outputs": [
    {
     "name": "stdout",
     "output_type": "stream",
     "text": [
      "         Date       Day  Temperature  Rainfall  Flyers  Price  Sales  \\\n",
      "41    2/11/17  Saturday        212.0      0.91      35    0.5     21   \n",
      "166   6/16/17    Friday         99.3      0.47      77    0.5     41   \n",
      "176   6/26/17    Monday        102.6      0.47      60    0.5     42   \n",
      "181    7/1/17  Saturday        102.9      0.47      59    0.5    143   \n",
      "190   7/10/17    Monday         98.0      0.49      66    0.5     40   \n",
      "198   7/18/17   Tuesday         99.3      0.47      76    0.5     41   \n",
      "202   7/22/17  Saturday         99.6      0.47      49    0.5     42   \n",
      "207   7/27/17  Thursday         97.9      0.47      74    0.5     43   \n",
      "338   12/5/17   Tuesday         22.0      1.82      11    0.5     10   \n",
      "364  12/31/17    Sunday         15.1      2.50       9    0.5      7   \n",
      "\n",
      "     Temperature_zscores  \n",
      "41              8.336627  \n",
      "166             2.105251  \n",
      "176             2.287714  \n",
      "181             2.304301  \n",
      "190             2.033372  \n",
      "198             2.105251  \n",
      "202             2.121838  \n",
      "207             2.027843  \n",
      "338            -2.168799  \n",
      "364            -2.550311  \n",
      "Temperature\n",
      "\n",
      "\n",
      "         Date        Day  Temperature  Rainfall  Flyers  Price  Sales  \\\n",
      "0      1/1/17     Sunday         27.0      2.00      15    0.5     10   \n",
      "5      1/6/17     Friday         25.3      1.54      23    0.5     11   \n",
      "6      1/7/17   Saturday         32.9      1.54      19    0.5     13   \n",
      "10    1/11/17  Wednesday         32.6      1.54      23    0.5     12   \n",
      "15    1/16/17     Monday         30.6      1.67      24    0.5     12   \n",
      "16    1/17/17    Tuesday         32.2      1.43      26    0.5     14   \n",
      "19    1/20/17     Friday         31.6      1.43      20    0.5     12   \n",
      "23    1/24/17    Tuesday         28.6      1.54      20    0.5     12   \n",
      "337   12/4/17     Monday         34.9      1.54      16    0.5     13   \n",
      "338   12/5/17    Tuesday         22.0      1.82      11    0.5     10   \n",
      "342   12/9/17   Saturday         31.2      1.43      19    0.5     14   \n",
      "343  12/10/17     Sunday         31.3      1.82      15    0.5     11   \n",
      "346  12/13/17  Wednesday         32.2      1.43      26    0.5     14   \n",
      "347  12/14/17   Thursday         31.9      1.54      24    0.5     13   \n",
      "351  12/18/17     Monday         30.9      1.43      27    0.5     13   \n",
      "355  12/22/17     Friday         30.9      1.54      17    0.5     13   \n",
      "359  12/26/17    Tuesday         28.9      1.43      23    0.5     13   \n",
      "363  12/30/17   Saturday         30.9      1.43      22    0.5     13   \n",
      "364  12/31/17     Sunday         15.1      2.50       9    0.5      7   \n",
      "\n",
      "     Temperature_zscores  Rainfall_zscores  \n",
      "0              -1.892340          4.286488  \n",
      "5              -1.986336          2.606983  \n",
      "6              -1.566119          2.606983  \n",
      "10             -1.582706          2.606983  \n",
      "15             -1.693290          3.081626  \n",
      "16             -1.604823          2.205363  \n",
      "19             -1.637998          2.205363  \n",
      "23             -1.803873          2.606983  \n",
      "337            -1.455535          2.606983  \n",
      "338            -2.168799          3.629291  \n",
      "342            -1.660115          2.205363  \n",
      "343            -1.654586          3.629291  \n",
      "346            -1.604823          2.205363  \n",
      "347            -1.621411          2.606983  \n",
      "351            -1.676702          2.205363  \n",
      "355            -1.676702          2.606983  \n",
      "359            -1.787286          2.205363  \n",
      "363            -1.676702          2.205363  \n",
      "364            -2.550311          6.112037  \n",
      "Rainfall\n",
      "\n",
      "\n",
      "         Date        Day  Temperature  Rainfall  Flyers  Price  Sales  \\\n",
      "166   6/16/17     Friday         99.3      0.47      77    0.5     41   \n",
      "170   6/20/17    Tuesday         85.1      0.54      70    0.5     37   \n",
      "171   6/21/17  Wednesday         94.3      0.47      76    0.5     41   \n",
      "182    7/2/17     Sunday         93.4      0.51      68    0.5    158   \n",
      "183    7/3/17     Monday         81.5      0.54      68    0.5    235   \n",
      "194   7/14/17     Friday         92.0      0.50      80    0.5     40   \n",
      "198   7/18/17    Tuesday         99.3      0.47      76    0.5     41   \n",
      "203   7/23/17     Sunday         89.1      0.51      72    0.5     37   \n",
      "204   7/24/17     Monday         83.5      0.57      69    0.5     35   \n",
      "207   7/27/17   Thursday         97.9      0.47      74    0.5     43   \n",
      "324  11/21/17    Tuesday         47.0      0.95     -38    0.5     20   \n",
      "338   12/5/17    Tuesday         22.0      1.82      11    0.5     10   \n",
      "364  12/31/17     Sunday         15.1      2.50       9    0.5      7   \n",
      "\n",
      "     Temperature_zscores  Rainfall_zscores  Flyers_zscores  \n",
      "166             2.105251         -1.299691        2.676244  \n",
      "170             1.320109         -1.044114        2.168499  \n",
      "171             1.828792         -1.299691        2.603709  \n",
      "182             1.779030         -1.153647        2.023429  \n",
      "183             1.121058         -1.044114        2.023429  \n",
      "194             1.701621         -1.190158        2.893849  \n",
      "198             2.105251         -1.299691        2.603709  \n",
      "203             1.541275         -1.153647        2.313569  \n",
      "204             1.231642         -0.934581        2.095964  \n",
      "207             2.027843         -1.299691        2.458639  \n",
      "324            -0.786506          0.452836       -5.665283  \n",
      "338            -2.168799          3.629291       -2.111067  \n",
      "364            -2.550311          6.112037       -2.256137  \n",
      "Flyers\n",
      "\n",
      "\n"
     ]
    }
   ],
   "source": [
    "for col in ['Temperature', 'Rainfall', 'Flyers']:\n",
    "    print(zscores(df, col, 2))\n",
    "    print(col)\n",
    "    print()\n",
    "    print()"
   ]
  },
  {
   "cell_type": "markdown",
   "id": "e054e06f-4e0c-4e1a-86ff-b3257aaeeb0f",
   "metadata": {},
   "source": [
    "### 3. Now use a 3 sigma decision rule to isolate the outliers in the normally distributed columns from lemonade.csv"
   ]
  },
  {
   "cell_type": "code",
   "execution_count": 35,
   "id": "860f5669-18a3-4445-a12d-dd15c5d4d6b1",
   "metadata": {},
   "outputs": [
    {
     "name": "stdout",
     "output_type": "stream",
     "text": [
      "       Date       Day  Temperature  Rainfall  Flyers  Price  Sales  \\\n",
      "41  2/11/17  Saturday        212.0      0.91      35    0.5     21   \n",
      "\n",
      "    Temperature_zscores  Rainfall_zscores  Flyers_zscores  \n",
      "41             8.336627          0.306792       -0.370227  \n",
      "Temperature\n",
      "\n",
      "\n",
      "         Date      Day  Temperature  Rainfall  Flyers  Price  Sales  \\\n",
      "0      1/1/17   Sunday         27.0      2.00      15    0.5     10   \n",
      "15    1/16/17   Monday         30.6      1.67      24    0.5     12   \n",
      "338   12/5/17  Tuesday         22.0      1.82      11    0.5     10   \n",
      "343  12/10/17   Sunday         31.3      1.82      15    0.5     11   \n",
      "364  12/31/17   Sunday         15.1      2.50       9    0.5      7   \n",
      "\n",
      "     Temperature_zscores  Rainfall_zscores  Flyers_zscores  \n",
      "0              -1.892340          4.286488       -1.820927  \n",
      "15             -1.693290          3.081626       -1.168112  \n",
      "338            -2.168799          3.629291       -2.111067  \n",
      "343            -1.654586          3.629291       -1.820927  \n",
      "364            -2.550311          6.112037       -2.256137  \n",
      "Rainfall\n",
      "\n",
      "\n",
      "         Date      Day  Temperature  Rainfall  Flyers  Price  Sales  \\\n",
      "324  11/21/17  Tuesday         47.0      0.95     -38    0.5     20   \n",
      "\n",
      "     Temperature_zscores  Rainfall_zscores  Flyers_zscores  \n",
      "324            -0.786506          0.452836       -5.665283  \n",
      "Flyers\n",
      "\n",
      "\n"
     ]
    }
   ],
   "source": [
    "for col in ['Temperature', 'Rainfall', 'Flyers']:\n",
    "    print(zscores(df, col, 3))\n",
    "    print(col)\n",
    "    print()\n",
    "    print()"
   ]
  },
  {
   "cell_type": "code",
   "execution_count": null,
   "id": "cae5e3d7-af94-409b-a2f3-22fd0f300d26",
   "metadata": {},
   "outputs": [],
   "source": []
  }
 ],
 "metadata": {
  "kernelspec": {
   "display_name": "Python 3 (ipykernel)",
   "language": "python",
   "name": "python3"
  },
  "language_info": {
   "codemirror_mode": {
    "name": "ipython",
    "version": 3
   },
   "file_extension": ".py",
   "mimetype": "text/x-python",
   "name": "python",
   "nbconvert_exporter": "python",
   "pygments_lexer": "ipython3",
   "version": "3.9.12"
  }
 },
 "nbformat": 4,
 "nbformat_minor": 5
}
